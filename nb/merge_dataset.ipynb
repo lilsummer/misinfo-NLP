{
 "cells": [
  {
   "cell_type": "markdown",
   "id": "641c45d9",
   "metadata": {},
   "source": [
    "# 1. CLEAN AND COMBINE DATA SOURCES"
   ]
  },
  {
   "cell_type": "code",
   "execution_count": 406,
   "id": "5748e0ed",
   "metadata": {},
   "outputs": [
    {
     "name": "stdout",
     "output_type": "stream",
     "text": [
      "The autoreload extension is already loaded. To reload it, use:\n",
      "  %reload_ext autoreload\n"
     ]
    }
   ],
   "source": [
    "%load_ext autoreload\n",
    "%autoreload 2\n",
    "\n",
    "import pandas as pd\n",
    "import numpy as np\n",
    "import re\n",
    "import utils\n",
    "import data_cleaning"
   ]
  },
  {
   "cell_type": "markdown",
   "id": "52810918",
   "metadata": {},
   "source": [
    "### a. Disinfo and Infodemic Data\n",
    "Disinfo: https://github.com/gtziafas/nlp4ifchallenge/tree/main/data/english\n",
    "\n",
    "Infodemic: https://dataverse.harvard.edu/dataset.xhtml?persistentId=doi:10.7910/DVN/XYK2UE"
   ]
  },
  {
   "cell_type": "code",
   "execution_count": 407,
   "id": "87dfc730",
   "metadata": {},
   "outputs": [],
   "source": [
    "disinfo = pd.read_csv('../data/covid19_disinfo/covid19_disinfo_binary_english_train_old.tsv', sep='\\t')\n",
    "infodemic = pd.read_csv('../data/covid19_infordemic/covid19_infodemic_english_data.tsv', sep='\\t')\n",
    "disinfodemic = pd.concat([disinfo, infodemic], axis=0).drop_duplicates()\n",
    "#utils.check_tweet_len(disinfodemic)\n",
    "#utils.check_tweet_len(disinfodemic, labels=['q2_label'])"
   ]
  },
  {
   "cell_type": "code",
   "execution_count": 408,
   "id": "b91bd521-1dd0-4ad6-8cfe-f562f0d18095",
   "metadata": {},
   "outputs": [
    {
     "data": {
      "text/plain": [
       "no     460\n",
       "yes     39\n",
       "Name: q2_label, dtype: int64"
      ]
     },
     "execution_count": 408,
     "metadata": {},
     "output_type": "execute_result"
    }
   ],
   "source": [
    "disinfo.q2_label.value_counts()"
   ]
  },
  {
   "cell_type": "code",
   "execution_count": 409,
   "id": "20545847-7ced-451e-a31f-32f8d9a3dabb",
   "metadata": {},
   "outputs": [
    {
     "data": {
      "text/plain": [
       "2_no_probably_contains_no_false_info      177\n",
       "1_no_definitely_contains_no_false_info     46\n",
       "3_not_sure                                 45\n",
       "4_yes_probably_contains_false_info         25\n",
       "5_yes_definitely_contains_false_info       12\n",
       "Name: q2_label, dtype: int64"
      ]
     },
     "execution_count": 409,
     "metadata": {},
     "output_type": "execute_result"
    }
   ],
   "source": [
    "infodemic.q2_label.value_counts()"
   ]
  },
  {
   "cell_type": "markdown",
   "id": "b5146f7c",
   "metadata": {},
   "source": [
    "### b. Cassie and Linh's manual labelling"
   ]
  },
  {
   "cell_type": "code",
   "execution_count": 410,
   "id": "4c0c115c",
   "metadata": {},
   "outputs": [
    {
     "name": "stdout",
     "output_type": "stream",
     "text": [
      "                  len_tweet                                               \\\n",
      "                      count        mean         std    min    25%    50%   \n",
      "q2_label q4_label                                                          \n",
      "0        0             82.0  208.804878   56.159262   72.0  168.0  227.0   \n",
      "         1              3.0  161.333333  107.584076   83.0  100.0  117.0   \n",
      "1        0              1.0  199.000000         NaN  199.0  199.0  199.0   \n",
      "         1             46.0  197.500000   68.263786   54.0  156.0  204.5   \n",
      "\n",
      "                                  \n",
      "                      75%    max  \n",
      "q2_label q4_label                 \n",
      "0        0         256.75  291.0  \n",
      "         1         200.50  284.0  \n",
      "1        0         199.00  199.0  \n",
      "         1         257.00  290.0  \n",
      "         len_tweet                                                         \n",
      "             count        mean        std   min    25%    50%    75%    max\n",
      "q2_label                                                                   \n",
      "0             85.0  207.129412  58.261886  72.0  166.0  226.0  257.0  291.0\n",
      "1             47.0  197.531915  67.518066  54.0  158.0  203.0  257.0  290.0\n"
     ]
    },
    {
     "name": "stderr",
     "output_type": "stream",
     "text": [
      "/home/ubuntu/data/misinfo/misinfo-NLP/nb/data_cleaning.py:40: FutureWarning: The frame.append method is deprecated and will be removed from pandas in a future version. Use pandas.concat instead.\n",
      "  manual_labeled_data = manual_labeled_data.append(temp)\n",
      "/home/ubuntu/data/misinfo/misinfo-NLP/nb/data_cleaning.py:40: FutureWarning: The frame.append method is deprecated and will be removed from pandas in a future version. Use pandas.concat instead.\n",
      "  manual_labeled_data = manual_labeled_data.append(temp)\n",
      "/home/ubuntu/data/misinfo/misinfo-NLP/nb/data_cleaning.py:40: FutureWarning: The frame.append method is deprecated and will be removed from pandas in a future version. Use pandas.concat instead.\n",
      "  manual_labeled_data = manual_labeled_data.append(temp)\n",
      "/home/ubuntu/data/misinfo/misinfo-NLP/nb/data_cleaning.py:40: FutureWarning: The frame.append method is deprecated and will be removed from pandas in a future version. Use pandas.concat instead.\n",
      "  manual_labeled_data = manual_labeled_data.append(temp)\n",
      "/home/ubuntu/data/misinfo/misinfo-NLP/nb/data_cleaning.py:40: FutureWarning: The frame.append method is deprecated and will be removed from pandas in a future version. Use pandas.concat instead.\n",
      "  manual_labeled_data = manual_labeled_data.append(temp)\n",
      "/home/ubuntu/data/misinfo/misinfo-NLP/nb/data_cleaning.py:40: FutureWarning: The frame.append method is deprecated and will be removed from pandas in a future version. Use pandas.concat instead.\n",
      "  manual_labeled_data = manual_labeled_data.append(temp)\n",
      "/home/ubuntu/data/misinfo/misinfo-NLP/nb/data_cleaning.py:40: FutureWarning: The frame.append method is deprecated and will be removed from pandas in a future version. Use pandas.concat instead.\n",
      "  manual_labeled_data = manual_labeled_data.append(temp)\n"
     ]
    }
   ],
   "source": [
    "manual_labeled_data = data_cleaning.clean_manual_data()\n",
    "utils.check_tweet_len(manual_labeled_data)\n",
    "utils.check_tweet_len(manual_labeled_data, labels=['q2_label'])"
   ]
  },
  {
   "cell_type": "code",
   "execution_count": 411,
   "id": "d10ac0cb-cafa-4948-906d-e9c602d739b1",
   "metadata": {},
   "outputs": [
    {
     "data": {
      "text/html": [
       "<div>\n",
       "<style scoped>\n",
       "    .dataframe tbody tr th:only-of-type {\n",
       "        vertical-align: middle;\n",
       "    }\n",
       "\n",
       "    .dataframe tbody tr th {\n",
       "        vertical-align: top;\n",
       "    }\n",
       "\n",
       "    .dataframe thead th {\n",
       "        text-align: right;\n",
       "    }\n",
       "</style>\n",
       "<table border=\"1\" class=\"dataframe\">\n",
       "  <thead>\n",
       "    <tr style=\"text-align: right;\">\n",
       "      <th></th>\n",
       "      <th>tweet_text</th>\n",
       "      <th>q2_label</th>\n",
       "      <th>q4_label</th>\n",
       "      <th>tidy_tweet</th>\n",
       "      <th>len_tweet</th>\n",
       "    </tr>\n",
       "  </thead>\n",
       "  <tbody>\n",
       "    <tr>\n",
       "      <th>0</th>\n",
       "      <td>Social media posts have claimed without eviden...</td>\n",
       "      <td>0</td>\n",
       "      <td>0</td>\n",
       "      <td>social media posts have claimed without eviden...</td>\n",
       "      <td>244</td>\n",
       "    </tr>\n",
       "    <tr>\n",
       "      <th>11</th>\n",
       "      <td>An image made to look like a statement from fo...</td>\n",
       "      <td>0</td>\n",
       "      <td>0</td>\n",
       "      <td>an image made to look like a statement from fo...</td>\n",
       "      <td>167</td>\n",
       "    </tr>\n",
       "    <tr>\n",
       "      <th>26</th>\n",
       "      <td>A baseless social media post ties the assassin...</td>\n",
       "      <td>0</td>\n",
       "      <td>0</td>\n",
       "      <td>a baseless social media post ties the assassin...</td>\n",
       "      <td>215</td>\n",
       "    </tr>\n",
       "    <tr>\n",
       "      <th>83</th>\n",
       "      <td>Monkeypox is not the same as shingles, nor is ...</td>\n",
       "      <td>0</td>\n",
       "      <td>0</td>\n",
       "      <td>monkeypox is not the same as shingles nor is i...</td>\n",
       "      <td>153</td>\n",
       "    </tr>\n",
       "    <tr>\n",
       "      <th>87</th>\n",
       "      <td>As global health authorities investigate an un...</td>\n",
       "      <td>0</td>\n",
       "      <td>0</td>\n",
       "      <td>as global health authorities investigate an un...</td>\n",
       "      <td>244</td>\n",
       "    </tr>\n",
       "  </tbody>\n",
       "</table>\n",
       "</div>"
      ],
      "text/plain": [
       "                                           tweet_text  q2_label  q4_label  \\\n",
       "0   Social media posts have claimed without eviden...         0         0   \n",
       "11  An image made to look like a statement from fo...         0         0   \n",
       "26  A baseless social media post ties the assassin...         0         0   \n",
       "83  Monkeypox is not the same as shingles, nor is ...         0         0   \n",
       "87  As global health authorities investigate an un...         0         0   \n",
       "\n",
       "                                           tidy_tweet  len_tweet  \n",
       "0   social media posts have claimed without eviden...        244  \n",
       "11  an image made to look like a statement from fo...        167  \n",
       "26  a baseless social media post ties the assassin...        215  \n",
       "83  monkeypox is not the same as shingles nor is i...        153  \n",
       "87  as global health authorities investigate an un...        244  "
      ]
     },
     "execution_count": 411,
     "metadata": {},
     "output_type": "execute_result"
    }
   ],
   "source": [
    "manual_labeled_data.head()"
   ]
  },
  {
   "cell_type": "markdown",
   "id": "ac722df0-1b95-45e4-9410-1d43e595f2d1",
   "metadata": {},
   "source": [
    "### Merge disinfo and B for training data"
   ]
  },
  {
   "cell_type": "code",
   "execution_count": 412,
   "id": "057eb3e1-48a0-4cc3-a8be-22dd943ca0cb",
   "metadata": {},
   "outputs": [],
   "source": [
    "manual_labeled_data['tweet_text'] = manual_labeled_data.tidy_tweet"
   ]
  },
  {
   "cell_type": "code",
   "execution_count": 413,
   "id": "c91c8257-7584-4332-9e03-40a724e7629e",
   "metadata": {},
   "outputs": [
    {
     "data": {
      "text/plain": [
       "Index(['tweet_text', 'q2_label', 'q4_label', 'tidy_tweet', 'len_tweet'], dtype='object')"
      ]
     },
     "execution_count": 413,
     "metadata": {},
     "output_type": "execute_result"
    }
   ],
   "source": [
    "manual_labeled_data.columns"
   ]
  },
  {
   "cell_type": "code",
   "execution_count": 414,
   "id": "11c488b3-f9f0-4735-bd91-8dcaa16f94c3",
   "metadata": {},
   "outputs": [
    {
     "name": "stdout",
     "output_type": "stream",
     "text": [
      "adding column: tweet_no\n",
      "adding column: q1_label\n",
      "adding column: q3_label\n",
      "adding column: q5_label\n",
      "adding column: q6_label\n",
      "adding column: q7_label\n"
     ]
    },
    {
     "name": "stderr",
     "output_type": "stream",
     "text": [
      "<ipython-input-414-2ce5a6e1a495>:5: SettingWithCopyWarning: \n",
      "A value is trying to be set on a copy of a slice from a DataFrame.\n",
      "Try using .loc[row_indexer,col_indexer] = value instead\n",
      "\n",
      "See the caveats in the documentation: https://pandas.pydata.org/pandas-docs/stable/user_guide/indexing.html#returning-a-view-versus-a-copy\n",
      "  manual_labeled_data_new[col] = np.nan\n"
     ]
    }
   ],
   "source": [
    "manual_labeled_data_new = manual_labeled_data[['tweet_text', 'q2_label', 'q4_label']]\n",
    "for col in disinfo:\n",
    "    if col not in manual_labeled_data_new.columns:\n",
    "        print(f\"adding column: {col}\")\n",
    "        manual_labeled_data_new[col] = np.nan"
   ]
  },
  {
   "cell_type": "code",
   "execution_count": 415,
   "id": "d5823384-05a8-451a-9592-925688700b00",
   "metadata": {},
   "outputs": [
    {
     "data": {
      "text/plain": [
       "Index(['tweet_no', 'tweet_text', 'q1_label', 'q2_label', 'q3_label',\n",
       "       'q4_label', 'q5_label', 'q6_label', 'q7_label'],\n",
       "      dtype='object')"
      ]
     },
     "execution_count": 415,
     "metadata": {},
     "output_type": "execute_result"
    }
   ],
   "source": [
    "disinfo.columns"
   ]
  },
  {
   "cell_type": "code",
   "execution_count": 416,
   "id": "54c04212-7006-46ab-ae52-bd7e3a20fab6",
   "metadata": {},
   "outputs": [],
   "source": [
    "manual_labeled_data_new_2 = manual_labeled_data_new[['tweet_no', 'tweet_text', 'q1_label', 'q2_label', 'q3_label',\n",
    "       'q4_label', 'q5_label', 'q6_label', 'q7_label']]"
   ]
  },
  {
   "cell_type": "code",
   "execution_count": 417,
   "id": "f450802f-0ae2-403c-b98c-8dcd86463e97",
   "metadata": {},
   "outputs": [
    {
     "data": {
      "text/plain": [
       "Index(['tweet_no', 'tweet_text', 'q1_label', 'q2_label', 'q3_label',\n",
       "       'q4_label', 'q5_label', 'q6_label', 'q7_label'],\n",
       "      dtype='object')"
      ]
     },
     "execution_count": 417,
     "metadata": {},
     "output_type": "execute_result"
    }
   ],
   "source": [
    "manual_labeled_data_new_2.columns"
   ]
  },
  {
   "cell_type": "code",
   "execution_count": 418,
   "id": "9a2ddfa1-4a08-45fb-8778-5a42a8ec9ba2",
   "metadata": {},
   "outputs": [
    {
     "data": {
      "text/plain": [
       "((132, 9), (869, 9))"
      ]
     },
     "execution_count": 418,
     "metadata": {},
     "output_type": "execute_result"
    }
   ],
   "source": [
    "manual_labeled_data_new_2.shape, disinfo.shape"
   ]
  },
  {
   "cell_type": "code",
   "execution_count": 419,
   "id": "4269d4cb-709d-4270-bf86-a6547d276261",
   "metadata": {},
   "outputs": [],
   "source": [
    "disinfo_manual_merge = pd.concat([disinfo, manual_labeled_data_new_2], axis=0)"
   ]
  },
  {
   "cell_type": "code",
   "execution_count": 420,
   "id": "22391484-a8b1-4ef3-8aa9-506784ed6865",
   "metadata": {},
   "outputs": [
    {
     "data": {
      "text/plain": [
       "(1001, 9)"
      ]
     },
     "execution_count": 420,
     "metadata": {},
     "output_type": "execute_result"
    }
   ],
   "source": [
    "disinfo_manual_merge.shape"
   ]
  },
  {
   "cell_type": "code",
   "execution_count": 421,
   "id": "df6f573e-943a-465d-a12d-6a27e9c0ff00",
   "metadata": {},
   "outputs": [
    {
     "data": {
      "text/plain": [
       "tweet_no       int64\n",
       "tweet_text    object\n",
       "q1_label      object\n",
       "q2_label      object\n",
       "q3_label      object\n",
       "q4_label      object\n",
       "q5_label      object\n",
       "q6_label      object\n",
       "q7_label      object\n",
       "dtype: object"
      ]
     },
     "execution_count": 421,
     "metadata": {},
     "output_type": "execute_result"
    }
   ],
   "source": [
    "disinfo.dtypes"
   ]
  },
  {
   "cell_type": "code",
   "execution_count": 422,
   "id": "8a9fd39b-f600-4dbb-9bea-4c872484d788",
   "metadata": {},
   "outputs": [
    {
     "data": {
      "text/plain": [
       "tweet_no      float64\n",
       "tweet_text     object\n",
       "q1_label       object\n",
       "q2_label       object\n",
       "q3_label       object\n",
       "q4_label       object\n",
       "q5_label       object\n",
       "q6_label       object\n",
       "q7_label       object\n",
       "dtype: object"
      ]
     },
     "execution_count": 422,
     "metadata": {},
     "output_type": "execute_result"
    }
   ],
   "source": [
    "disinfo_manual_merge.dtypes"
   ]
  },
  {
   "cell_type": "code",
   "execution_count": 423,
   "id": "e4271cdc-1500-4e0e-8b49-935929efac10",
   "metadata": {},
   "outputs": [],
   "source": [
    "disinfo_manual_merge['tweet_no'] = disinfo_manual_merge.tweet_no.fillna(999).astype('int')"
   ]
  },
  {
   "cell_type": "code",
   "execution_count": 424,
   "id": "6a982fe4-15aa-4fe0-9cab-783396f64ff2",
   "metadata": {},
   "outputs": [
    {
     "data": {
      "text/plain": [
       "tweet_no       int64\n",
       "tweet_text    object\n",
       "q1_label      object\n",
       "q2_label      object\n",
       "q3_label      object\n",
       "q4_label      object\n",
       "q5_label      object\n",
       "q6_label      object\n",
       "q7_label      object\n",
       "dtype: object"
      ]
     },
     "execution_count": 424,
     "metadata": {},
     "output_type": "execute_result"
    }
   ],
   "source": [
    "disinfo_manual_merge.dtypes"
   ]
  },
  {
   "cell_type": "code",
   "execution_count": 425,
   "id": "fe40aabd-aaec-4732-954a-1d0b2389b37b",
   "metadata": {},
   "outputs": [],
   "source": [
    "disinfo_manual_merge.reset_index(inplace=True)"
   ]
  },
  {
   "cell_type": "code",
   "execution_count": 426,
   "id": "1f523586-ec2e-4da0-89e8-9ddac325512c",
   "metadata": {},
   "outputs": [
    {
     "data": {
      "text/plain": [
       "count    1001.000000\n",
       "mean      432.584416\n",
       "std       301.806844\n",
       "min         0.000000\n",
       "25%       193.000000\n",
       "50%       405.000000\n",
       "75%       643.000000\n",
       "max      1989.000000\n",
       "Name: index, dtype: float64"
      ]
     },
     "execution_count": 426,
     "metadata": {},
     "output_type": "execute_result"
    }
   ],
   "source": [
    "disinfo_manual_merge['index'].describe()"
   ]
  },
  {
   "cell_type": "code",
   "execution_count": 427,
   "id": "2d394ff8-ee0e-4b98-8fdd-eb213819746a",
   "metadata": {},
   "outputs": [],
   "source": [
    "disinfo_manual_merge.index = pd.RangeIndex(len(disinfo_manual_merge.index))"
   ]
  },
  {
   "cell_type": "code",
   "execution_count": 428,
   "id": "897a3fda-babc-482d-a659-c07e263b6f4f",
   "metadata": {},
   "outputs": [],
   "source": [
    "disinfo_manual_merge['tweet_no'] = disinfo_manual_merge.index + 1"
   ]
  },
  {
   "cell_type": "code",
   "execution_count": 429,
   "id": "b18174e2-014f-40cb-84d6-c58db861cdcf",
   "metadata": {},
   "outputs": [],
   "source": [
    "#disinfo_manual_merge.drop([877], axis=0, inplace=True)"
   ]
  },
  {
   "cell_type": "code",
   "execution_count": 430,
   "id": "229fab41-fcd6-4f91-bfd4-7519c01c6b96",
   "metadata": {},
   "outputs": [],
   "source": [
    "disinfo_manual_merge.drop('index', axis=1, inplace=True)"
   ]
  },
  {
   "cell_type": "code",
   "execution_count": 431,
   "id": "e588f448-c209-4b0b-9bae-38a01a0ca864",
   "metadata": {},
   "outputs": [
    {
     "data": {
      "text/plain": [
       "tweet_no       int64\n",
       "tweet_text    object\n",
       "q1_label      object\n",
       "q2_label      object\n",
       "q3_label      object\n",
       "q4_label      object\n",
       "q5_label      object\n",
       "q6_label      object\n",
       "q7_label      object\n",
       "dtype: object"
      ]
     },
     "execution_count": 431,
     "metadata": {},
     "output_type": "execute_result"
    }
   ],
   "source": [
    "disinfo.dtypes"
   ]
  },
  {
   "cell_type": "code",
   "execution_count": 432,
   "id": "2e48acef-06af-4611-b02c-fbed4a6f8eab",
   "metadata": {},
   "outputs": [
    {
     "data": {
      "text/plain": [
       "count    1001.000000\n",
       "mean      501.000000\n",
       "std       289.108111\n",
       "min         1.000000\n",
       "25%       251.000000\n",
       "50%       501.000000\n",
       "75%       751.000000\n",
       "max      1001.000000\n",
       "Name: tweet_no, dtype: float64"
      ]
     },
     "execution_count": 432,
     "metadata": {},
     "output_type": "execute_result"
    }
   ],
   "source": [
    "disinfo_manual_merge.tweet_no.describe()"
   ]
  },
  {
   "cell_type": "code",
   "execution_count": 433,
   "id": "e34a5753-29a8-41a5-95c5-d5c1f8f5517e",
   "metadata": {},
   "outputs": [],
   "source": [
    "for i in range(len(disinfo_manual_merge)):\n",
    "    if disinfo_manual_merge.tweet_no.values[i]=='':\n",
    "        print(i)"
   ]
  },
  {
   "cell_type": "code",
   "execution_count": 434,
   "id": "2c09739c-932f-4ddb-a285-c49d232b3f85",
   "metadata": {},
   "outputs": [
    {
     "data": {
      "text/plain": [
       "(array([], dtype=int64), array([], dtype=int64))"
      ]
     },
     "execution_count": 434,
     "metadata": {},
     "output_type": "execute_result"
    }
   ],
   "source": [
    "np.where(disinfo_manual_merge.applymap(lambda x: x == ''))"
   ]
  },
  {
   "cell_type": "code",
   "execution_count": 435,
   "id": "6c6cc4bb-3a44-410a-895b-da56ee1051d7",
   "metadata": {},
   "outputs": [
    {
     "data": {
      "text/plain": [
       "yes    569\n",
       "no     300\n",
       "Name: q1_label, dtype: int64"
      ]
     },
     "execution_count": 435,
     "metadata": {},
     "output_type": "execute_result"
    }
   ],
   "source": [
    "disinfo_manual_merge.q1_label.value_counts()"
   ]
  },
  {
   "cell_type": "code",
   "execution_count": 436,
   "id": "db2ed585-d629-401f-882e-7714a82d3f9a",
   "metadata": {},
   "outputs": [],
   "source": [
    "encode_di ={1: 'yes', 0: 'no', 'yes': 'yes', 'no': 'no'}"
   ]
  },
  {
   "cell_type": "code",
   "execution_count": 437,
   "id": "c4a57bb3-e7fb-4798-bd6a-d9c9275cd5df",
   "metadata": {},
   "outputs": [],
   "source": [
    "disinfo_manual_merge['q2_label'] = disinfo_manual_merge['q2_label'].map(encode_di)\n",
    "disinfo_manual_merge['q3_label'] = disinfo_manual_merge['q3_label'].map(encode_di)\n",
    "disinfo_manual_merge['q4_label'] = disinfo_manual_merge['q4_label'].map(encode_di)\n",
    "disinfo_manual_merge['q5_label'] = disinfo_manual_merge['q5_label'].map(encode_di)\n",
    "disinfo_manual_merge['q6_label'] = disinfo_manual_merge['q6_label'].map(encode_di)"
   ]
  },
  {
   "cell_type": "code",
   "execution_count": 438,
   "id": "0183d73d-a116-47a6-adc8-8e66e9399857",
   "metadata": {},
   "outputs": [
    {
     "data": {
      "text/plain": [
       "no     492\n",
       "yes    205\n",
       "Name: q4_label, dtype: int64"
      ]
     },
     "execution_count": 438,
     "metadata": {},
     "output_type": "execute_result"
    }
   ],
   "source": [
    "disinfo_manual_merge.q4_label.value_counts()"
   ]
  },
  {
   "cell_type": "code",
   "execution_count": 439,
   "id": "31db89cc-ec99-4db0-b192-b939eb8a7ae1",
   "metadata": {},
   "outputs": [
    {
     "data": {
      "text/plain": [
       "no     409\n",
       "yes    156\n",
       "Name: q4_label, dtype: int64"
      ]
     },
     "execution_count": 439,
     "metadata": {},
     "output_type": "execute_result"
    }
   ],
   "source": [
    "disinfo.q4_label.value_counts()"
   ]
  },
  {
   "cell_type": "code",
   "execution_count": 440,
   "id": "44ba8416-ee8b-48d9-b6e5-b337f385cdc8",
   "metadata": {},
   "outputs": [],
   "source": [
    "#disinfo_manual_merge.drop(876, axis=0, inplace=True)"
   ]
  },
  {
   "cell_type": "code",
   "execution_count": 441,
   "id": "b5371941-b6b0-4c41-967f-5f1fbb590bf9",
   "metadata": {},
   "outputs": [],
   "source": [
    "disinfo_manual_merge.to_csv('../data/covid19_disinfo/disinfo_manual.tsv', sep = '\\t', index=False, na_rep=np.nan)"
   ]
  },
  {
   "cell_type": "code",
   "execution_count": 321,
   "id": "ae2bb43a-a864-476e-90c5-83845df25f35",
   "metadata": {},
   "outputs": [
    {
     "data": {
      "text/plain": [
       "'what do we know about the new omicron mutant it s a descendent of the earlier super contagious stealth omicron and has quickly gained ground in the united states t co zhbebh zl'"
      ]
     },
     "execution_count": 321,
     "metadata": {},
     "output_type": "execute_result"
    }
   ],
   "source": [
    "disinfo_manual_merge.iloc[876,:].tweet_text"
   ]
  },
  {
   "cell_type": "markdown",
   "id": "e1882176-131d-4d55-a5da-2716327a4de1",
   "metadata": {},
   "source": [
    "--- The END --"
   ]
  },
  {
   "cell_type": "code",
   "execution_count": null,
   "id": "9e8ac03e-c5fd-4519-8e82-be24f15eac53",
   "metadata": {},
   "outputs": [],
   "source": []
  },
  {
   "cell_type": "code",
   "execution_count": null,
   "id": "67147287-0348-4373-ae63-30da09d1ae40",
   "metadata": {},
   "outputs": [],
   "source": []
  },
  {
   "cell_type": "code",
   "execution_count": null,
   "id": "8ace2973-b0f0-4276-83d2-1b379b9a47a2",
   "metadata": {},
   "outputs": [],
   "source": []
  },
  {
   "cell_type": "code",
   "execution_count": null,
   "id": "31d4291a-7dc0-4344-a0b2-6f891d9d2b59",
   "metadata": {},
   "outputs": [],
   "source": []
  }
 ],
 "metadata": {
  "kernelspec": {
   "display_name": "Python 3 (ipykernel)",
   "language": "python",
   "name": "python3"
  },
  "language_info": {
   "codemirror_mode": {
    "name": "ipython",
    "version": 3
   },
   "file_extension": ".py",
   "mimetype": "text/x-python",
   "name": "python",
   "nbconvert_exporter": "python",
   "pygments_lexer": "ipython3",
   "version": "3.9.7"
  }
 },
 "nbformat": 4,
 "nbformat_minor": 5
}
