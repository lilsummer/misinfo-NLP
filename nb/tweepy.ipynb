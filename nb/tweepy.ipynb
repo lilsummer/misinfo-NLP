{
 "cells": [
  {
   "cell_type": "code",
   "execution_count": 2,
   "id": "20f14c8b",
   "metadata": {},
   "outputs": [],
   "source": [
    "import tweepy                   # Python wrapper around Twitter API\n",
    "import json\n",
    "import pandas as pd\n",
    "import csv\n",
    "from datetime import date\n",
    "from datetime import datetime\n",
    "import time\n",
    "import matplotlib.pyplot as plt"
   ]
  },
  {
   "cell_type": "code",
   "execution_count": 7,
   "id": "c3d6d2be",
   "metadata": {},
   "outputs": [],
   "source": [
    "secrets = json.loads(open('mysecret.json').read())  \n",
    "consumer_key = secrets['API_Key']\n",
    "consumer_secret = secrets['API_Key_Secret']\n",
    "access_token = secrets['Access_Token']\n",
    "access_token_secret = secrets['Access_Token_Secret']"
   ]
  },
  {
   "cell_type": "code",
   "execution_count": 8,
   "id": "6e05a7eb",
   "metadata": {},
   "outputs": [
    {
     "name": "stdout",
     "output_type": "stream",
     "text": [
      "映画「飯戲攻心」NYAFF22 (at @AsiaSociety New York in New York, NY) https://t.co/kMiYUj43WM https://t.co/YtHJUBEO5o\n",
      "RT @Ronald_vanLoon: KingSong S20 Eagle could be the fasted unicycle of 2022\n",
      "by @gigadgets_\n",
      "\n",
      "#AI #MachineLearning #ArtificialIntelligence #M…\n",
      "RT @colleenmmck618: @MackayIM @RichmdSewerRat Everyone, please wear a quality mask. Avoid crowds. This is common sense. Don't need to be an…\n",
      "RT @ahistoryinart: In 1924 the year this work was painted, Gunnar Widforss showed a number of works depicting scenes from US National Parks…\n",
      "RT @jsobhi5: https://t.co/I5LABI6Jv2\n",
      "haha sure https://t.co/UgHuQT0isT\n",
      "crabbbbbb https://t.co/YZOVDA5na3\n",
      "didn’t expect the nytimes to be first to run an eat the rich piece https://t.co/N2e9CQXubL\n",
      "One day we’re going to put the team back together for one last hoorah. You know who you are https://t.co/Y4884EziVD\n",
      "RT @cpiller: Thoughtful thread on some of the bigger picture questions on apparent image manipulation.\n",
      "RT @TheOmniZaddy: Housing consumption costs have been consistently rising for decades now. Blaming “AirBnB” and “private equity” for curren…\n",
      "RT @CodeNewbies: What advice would you give your 20-year-old self?\n",
      "RT @calon: A：大夫，您这药方真的有有效成分吗？看着怎么像是只有安慰剂的作用啊？\n",
      "B：相信安慰剂能起作用，对治好你的病有好处。\n",
      "RT @GAYTOWNS69: Can we get a saturday brunch follow thread going? If you're queer and tweet about urbanism, housing, transit, and don't hav…\n",
      "RT @courtneymilan: This makes me feel physically nauseous. The person who maybe supposedly figured out a cause of Alzheimer’s may have purp…\n",
      "RT @denise_dewald: STDs generally require direct mucosal surface-to-mucosal surface contact to be spread. STDs aren’t spread by dry fomites…\n",
      "I am fucking speechless https://t.co/AAn8HJq1td\n",
      "RT @ImKnotTheOne: I have NO DOUBTS Diamond and Silk would have snitched on Harriet Tubman!\n",
      "RT @monkeyalien: 闭环第十四天，哺乳期的女同事给女儿打视频，两个人都号啕大哭。\n"
     ]
    }
   ],
   "source": [
    "auth = tweepy.OAuthHandler(consumer_key, consumer_secret)\n",
    "auth.set_access_token(access_token, access_token_secret)\n",
    "\n",
    "api = tweepy.API(auth)  \n",
    "public_tweets = api.home_timeline()\n",
    "for tweet in public_tweets:\n",
    "    print(tweet.text)"
   ]
  },
  {
   "cell_type": "code",
   "execution_count": 9,
   "id": "42faa00b",
   "metadata": {},
   "outputs": [],
   "source": [
    "def jsonify_tweepy(tweepy_obj):\n",
    "    json_str = json.dumps(tweepy_obj._json, indent = 2)\n",
    "    return json.loads(json_str)"
   ]
  },
  {
   "cell_type": "markdown",
   "id": "23b9dbc9",
   "metadata": {},
   "source": [
    "## Collecting tweets from specific users"
   ]
  },
  {
   "cell_type": "code",
   "execution_count": 46,
   "id": "13dbb72a",
   "metadata": {},
   "outputs": [
    {
     "name": "stdout",
     "output_type": "stream",
     "text": [
      "CPU times: user 2 µs, sys: 5 µs, total: 7 µs\n",
      "Wall time: 11.9 µs\n"
     ]
    }
   ],
   "source": [
    "%time\n",
    "user = 'MackayIM'\n",
    "\n",
    "limit = 2000\n",
    "tweets = tweepy.Cursor(api.user_timeline, screen_name=user, count= 200, tweet_mode = 'extended').items(limit)\n",
    "#tweets = api.user_timeline(screen_name=user, count= limit, tweet_mode = 'extended')\n",
    "\n",
    "#create dataframe\n",
    "columns = ['Time', 'User', 'Tweet', 'RetweetCount', 'LikeCount', 'TweetID', 'Geo']\n",
    "data=[]\n",
    "\n",
    "for tweet in tweets:\n",
    "    data.append([tweet.created_at, tweet.user.screen_name, tweet.full_text,\\\n",
    "                 tweet.retweet_count, tweet.favorite_count, tweet.id, tweet.geo])\n",
    "df= pd.DataFrame(data,columns=columns)\n",
    "df.to_csv('MackayIM_tweets.csv')\n",
    "#print(df)"
   ]
  },
  {
   "cell_type": "code",
   "execution_count": 47,
   "id": "f27b80e0",
   "metadata": {},
   "outputs": [],
   "source": [
    "user = 'hodgetwins'\n",
    "\n",
    "limit = 2000\n",
    "tweets = tweepy.Cursor(api.user_timeline, screen_name=user, count= 200, tweet_mode = 'extended').items(limit)\n",
    "#tweets = api.user_timeline(screen_name=user, count= limit, tweet_mode = 'extended')\n",
    "\n",
    "#create dataframe\n",
    "columns = ['Time', 'User', 'Tweet', 'RetweetCount', 'LikeCount', 'TweetID', 'Geo']\n",
    "data=[]\n",
    "\n",
    "for tweet in tweets:\n",
    "    data.append([tweet.created_at, tweet.user.screen_name, tweet.full_text,\\\n",
    "                 tweet.retweet_count, tweet.favorite_count, tweet.id, tweet.geo])\n",
    "df= pd.DataFrame(data,columns=columns)\n",
    "df.to_csv('hodgetwins_tweets.csv')"
   ]
  },
  {
   "cell_type": "code",
   "execution_count": 48,
   "id": "c1e82a03",
   "metadata": {},
   "outputs": [],
   "source": [
    "user = 'VPrasadMDMPH'\n",
    "\n",
    "limit = 2000\n",
    "tweets = tweepy.Cursor(api.user_timeline, screen_name=user, count= 200, tweet_mode = 'extended').items(limit)\n",
    "#tweets = api.user_timeline(screen_name=user, count= limit, tweet_mode = 'extended')\n",
    "\n",
    "#create dataframe\n",
    "columns = ['Time', 'User', 'Tweet', 'RetweetCount', 'LikeCount', 'TweetID', 'Geo']\n",
    "data=[]\n",
    "\n",
    "for tweet in tweets:\n",
    "    data.append([tweet.created_at, tweet.user.screen_name, tweet.full_text,\\\n",
    "                 tweet.retweet_count, tweet.favorite_count, tweet.id, tweet.geo])\n",
    "df= pd.DataFrame(data,columns=columns)\n",
    "df.to_csv('VPrasadMDMPH_tweets.csv')"
   ]
  },
  {
   "cell_type": "code",
   "execution_count": 49,
   "id": "5e6ce76d",
   "metadata": {},
   "outputs": [],
   "source": [
    "user = 'realDennisLynch'\n",
    "\n",
    "limit = 2000\n",
    "tweets = tweepy.Cursor(api.user_timeline, screen_name=user, count= 200, tweet_mode = 'extended').items(limit)\n",
    "#tweets = api.user_timeline(screen_name=user, count= limit, tweet_mode = 'extended')\n",
    "\n",
    "#create dataframe\n",
    "columns = ['Time', 'User', 'Tweet', 'RetweetCount', 'LikeCount', 'TweetID', 'Geo']\n",
    "data=[]\n",
    "\n",
    "for tweet in tweets:\n",
    "    data.append([tweet.created_at, tweet.user.screen_name, tweet.full_text,\\\n",
    "                 tweet.retweet_count, tweet.favorite_count, tweet.id, tweet.geo])\n",
    "df= pd.DataFrame(data,columns=columns)\n",
    "df.to_csv('realDennisLynch_tweets.csv')"
   ]
  },
  {
   "cell_type": "code",
   "execution_count": 50,
   "id": "4c615c36",
   "metadata": {},
   "outputs": [],
   "source": [
    "user = 'APFactCheck'\n",
    "\n",
    "limit = 2000\n",
    "tweets = tweepy.Cursor(api.user_timeline, screen_name=user, count= 200, tweet_mode = 'extended').items(limit)\n",
    "#tweets = api.user_timeline(screen_name=user, count= limit, tweet_mode = 'extended')\n",
    "\n",
    "#create dataframe\n",
    "columns = ['Time', 'User', 'Tweet', 'RetweetCount', 'LikeCount', 'TweetID', 'Geo']\n",
    "data=[]\n",
    "\n",
    "for tweet in tweets:\n",
    "    data.append([tweet.created_at, tweet.user.screen_name, tweet.full_text,\\\n",
    "                 tweet.retweet_count, tweet.favorite_count, tweet.id, tweet.geo])\n",
    "df= pd.DataFrame(data,columns=columns)\n",
    "df.to_csv('APFactCheck_tweets.csv')"
   ]
  },
  {
   "cell_type": "code",
   "execution_count": 51,
   "id": "5db24284",
   "metadata": {},
   "outputs": [],
   "source": [
    "user = 'Rustybe96849965'\n",
    "\n",
    "limit = 2000\n",
    "tweets = tweepy.Cursor(api.user_timeline, screen_name=user, count= 200, tweet_mode = 'extended').items(limit)\n",
    "#tweets = api.user_timeline(screen_name=user, count= limit, tweet_mode = 'extended')\n",
    "\n",
    "#create dataframe\n",
    "columns = ['Time', 'User', 'Tweet', 'RetweetCount', 'LikeCount', 'TweetID', 'Geo']\n",
    "data=[]\n",
    "\n",
    "for tweet in tweets:\n",
    "    data.append([tweet.created_at, tweet.user.screen_name, tweet.full_text,\\\n",
    "                 tweet.retweet_count, tweet.favorite_count, tweet.id, tweet.geo])\n",
    "df= pd.DataFrame(data,columns=columns)\n",
    "df.to_csv('Rustybe96849965_tweets.csv')"
   ]
  },
  {
   "cell_type": "code",
   "execution_count": 52,
   "id": "b2f4eb9d",
   "metadata": {},
   "outputs": [],
   "source": [
    "user = 'BandyGit'\n",
    "\n",
    "limit = 2000\n",
    "tweets = tweepy.Cursor(api.user_timeline, screen_name=user, count= 200, tweet_mode = 'extended').items(limit)\n",
    "#tweets = api.user_timeline(screen_name=user, count= limit, tweet_mode = 'extended')\n",
    "\n",
    "#create dataframe\n",
    "columns = ['Time', 'User', 'Tweet', 'RetweetCount', 'LikeCount', 'TweetID', 'Geo']\n",
    "data=[]\n",
    "\n",
    "for tweet in tweets:\n",
    "    data.append([tweet.created_at, tweet.user.screen_name, tweet.full_text,\\\n",
    "                 tweet.retweet_count, tweet.favorite_count, tweet.id, tweet.geo])\n",
    "df= pd.DataFrame(data,columns=columns)\n",
    "df.to_csv('BandyGit_tweets.csv')"
   ]
  },
  {
   "cell_type": "code",
   "execution_count": null,
   "id": "063dafa0",
   "metadata": {},
   "outputs": [],
   "source": []
  },
  {
   "cell_type": "code",
   "execution_count": null,
   "id": "b94930aa",
   "metadata": {},
   "outputs": [],
   "source": []
  },
  {
   "cell_type": "code",
   "execution_count": null,
   "id": "a272a889",
   "metadata": {},
   "outputs": [],
   "source": []
  },
  {
   "cell_type": "code",
   "execution_count": null,
   "id": "451ddf7e",
   "metadata": {},
   "outputs": [],
   "source": []
  },
  {
   "cell_type": "code",
   "execution_count": null,
   "id": "ef88e219",
   "metadata": {},
   "outputs": [],
   "source": []
  }
 ],
 "metadata": {
  "kernelspec": {
   "display_name": "Python 3 (ipykernel)",
   "language": "python",
   "name": "python3"
  },
  "language_info": {
   "codemirror_mode": {
    "name": "ipython",
    "version": 3
   },
   "file_extension": ".py",
   "mimetype": "text/x-python",
   "name": "python",
   "nbconvert_exporter": "python",
   "pygments_lexer": "ipython3",
   "version": "3.8.13"
  }
 },
 "nbformat": 4,
 "nbformat_minor": 5
}
