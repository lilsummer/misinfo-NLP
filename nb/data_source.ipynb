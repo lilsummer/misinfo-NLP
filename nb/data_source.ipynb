{
 "cells": [
  {
   "cell_type": "code",
   "execution_count": 1,
   "id": "ae1f2c6d",
   "metadata": {},
   "outputs": [],
   "source": [
    "import pandas as pd\n",
    "import matplotlib.pyplot as plt"
   ]
  },
  {
   "cell_type": "markdown",
   "id": "124b4b06",
   "metadata": {},
   "source": [
    "# COVID19 DISINFO DATA"
   ]
  },
  {
   "cell_type": "code",
   "execution_count": 2,
   "id": "18891f21",
   "metadata": {},
   "outputs": [],
   "source": [
    "plt.style.use('fivethirtyeight')"
   ]
  },
  {
   "cell_type": "code",
   "execution_count": 4,
   "id": "91585553",
   "metadata": {},
   "outputs": [
    {
     "name": "stdout",
     "output_type": "stream",
     "text": [
      "covid19_disinfo_binary_english_dev_ids.tsv\r\n",
      "covid19_disinfo_binary_english_dev_input.tsv\r\n",
      "covid19_disinfo_binary_english_test_input.tsv\r\n",
      "covid19_disinfo_binary_english_test_input_ids.tsv\r\n",
      "covid19_disinfo_binary_english_test_input_processed.tsv\r\n",
      "covid19_disinfo_binary_english_train_aggr2.tsv\r\n",
      "covid19_disinfo_binary_english_train_bert2.tsv\r\n",
      "covid19_disinfo_binary_english_train_ids.tsv\r\n",
      "covid19_disinfo_binary_english_train_old.tsv\r\n"
     ]
    }
   ],
   "source": [
    "!ls ../data/covid19_disinfo/"
   ]
  },
  {
   "cell_type": "code",
   "execution_count": 5,
   "id": "1bc9c4e2",
   "metadata": {},
   "outputs": [],
   "source": [
    "df1 = pd.read_csv('../data/covid19_disinfo/covid19_disinfo_binary_english_train_old.tsv', sep='\\t')"
   ]
  },
  {
   "cell_type": "code",
   "execution_count": 6,
   "id": "608c9bf1",
   "metadata": {},
   "outputs": [
    {
     "data": {
      "text/plain": [
       "(869, 9)"
      ]
     },
     "execution_count": 6,
     "metadata": {},
     "output_type": "execute_result"
    }
   ],
   "source": [
    "df1.shape"
   ]
  },
  {
   "cell_type": "code",
   "execution_count": 7,
   "id": "80b8e823",
   "metadata": {},
   "outputs": [
    {
     "data": {
      "text/html": [
       "<div>\n",
       "<style scoped>\n",
       "    .dataframe tbody tr th:only-of-type {\n",
       "        vertical-align: middle;\n",
       "    }\n",
       "\n",
       "    .dataframe tbody tr th {\n",
       "        vertical-align: top;\n",
       "    }\n",
       "\n",
       "    .dataframe thead th {\n",
       "        text-align: right;\n",
       "    }\n",
       "</style>\n",
       "<table border=\"1\" class=\"dataframe\">\n",
       "  <thead>\n",
       "    <tr style=\"text-align: right;\">\n",
       "      <th></th>\n",
       "      <th>tweet_no</th>\n",
       "      <th>tweet_text</th>\n",
       "      <th>q1_label</th>\n",
       "      <th>q2_label</th>\n",
       "      <th>q3_label</th>\n",
       "      <th>q4_label</th>\n",
       "      <th>q5_label</th>\n",
       "      <th>q6_label</th>\n",
       "      <th>q7_label</th>\n",
       "    </tr>\n",
       "  </thead>\n",
       "  <tbody>\n",
       "    <tr>\n",
       "      <th>0</th>\n",
       "      <td>1</td>\n",
       "      <td>For the average American the best way to tell ...</td>\n",
       "      <td>no</td>\n",
       "      <td>NaN</td>\n",
       "      <td>NaN</td>\n",
       "      <td>NaN</td>\n",
       "      <td>NaN</td>\n",
       "      <td>no</td>\n",
       "      <td>no</td>\n",
       "    </tr>\n",
       "    <tr>\n",
       "      <th>1</th>\n",
       "      <td>2</td>\n",
       "      <td>this is fucking bullshit</td>\n",
       "      <td>no</td>\n",
       "      <td>NaN</td>\n",
       "      <td>NaN</td>\n",
       "      <td>NaN</td>\n",
       "      <td>NaN</td>\n",
       "      <td>no</td>\n",
       "      <td>no</td>\n",
       "    </tr>\n",
       "    <tr>\n",
       "      <th>2</th>\n",
       "      <td>3</td>\n",
       "      <td>Can y’all please just follow the government’s ...</td>\n",
       "      <td>no</td>\n",
       "      <td>NaN</td>\n",
       "      <td>NaN</td>\n",
       "      <td>NaN</td>\n",
       "      <td>NaN</td>\n",
       "      <td>no</td>\n",
       "      <td>no</td>\n",
       "    </tr>\n",
       "    <tr>\n",
       "      <th>3</th>\n",
       "      <td>4</td>\n",
       "      <td>No offense but the corona virus disappearing b...</td>\n",
       "      <td>no</td>\n",
       "      <td>NaN</td>\n",
       "      <td>NaN</td>\n",
       "      <td>NaN</td>\n",
       "      <td>NaN</td>\n",
       "      <td>no</td>\n",
       "      <td>no</td>\n",
       "    </tr>\n",
       "    <tr>\n",
       "      <th>4</th>\n",
       "      <td>5</td>\n",
       "      <td>This is the face of someone who just spent 9 h...</td>\n",
       "      <td>yes</td>\n",
       "      <td>no</td>\n",
       "      <td>yes</td>\n",
       "      <td>no</td>\n",
       "      <td>yes</td>\n",
       "      <td>no</td>\n",
       "      <td>no</td>\n",
       "    </tr>\n",
       "  </tbody>\n",
       "</table>\n",
       "</div>"
      ],
      "text/plain": [
       "   tweet_no                                         tweet_text q1_label  \\\n",
       "0         1  For the average American the best way to tell ...       no   \n",
       "1         2                           this is fucking bullshit       no   \n",
       "2         3  Can y’all please just follow the government’s ...       no   \n",
       "3         4  No offense but the corona virus disappearing b...       no   \n",
       "4         5  This is the face of someone who just spent 9 h...      yes   \n",
       "\n",
       "  q2_label q3_label q4_label q5_label q6_label q7_label  \n",
       "0      NaN      NaN      NaN      NaN       no       no  \n",
       "1      NaN      NaN      NaN      NaN       no       no  \n",
       "2      NaN      NaN      NaN      NaN       no       no  \n",
       "3      NaN      NaN      NaN      NaN       no       no  \n",
       "4       no      yes       no      yes       no       no  "
      ]
     },
     "execution_count": 7,
     "metadata": {},
     "output_type": "execute_result"
    }
   ],
   "source": [
    "df1.head()"
   ]
  },
  {
   "cell_type": "code",
   "execution_count": 16,
   "id": "b1c3d184",
   "metadata": {},
   "outputs": [],
   "source": [
    "label_name = list(df1.columns)\n",
    "label_name = [i for i in label_name if 'label' in i]"
   ]
  },
  {
   "cell_type": "code",
   "execution_count": 21,
   "id": "fbc37526",
   "metadata": {},
   "outputs": [
    {
     "name": "stdout",
     "output_type": "stream",
     "text": [
      " \n",
      "q1_label\n",
      "yes    569\n",
      "no     300\n",
      "Name: q1_label, dtype: int64\n",
      " \n",
      "q2_label\n",
      "no     460\n",
      "yes     39\n",
      "Name: q2_label, dtype: int64\n",
      " \n",
      "q3_label\n",
      "yes    510\n",
      "no      51\n",
      "Name: q3_label, dtype: int64\n",
      " \n",
      "q4_label\n",
      "no     409\n",
      "yes    156\n",
      "Name: q4_label, dtype: int64\n",
      " \n",
      "q5_label\n",
      "no     384\n",
      "yes    185\n",
      "Name: q5_label, dtype: int64\n",
      " \n",
      "q6_label\n",
      "no     729\n",
      "yes    138\n",
      "Name: q6_label, dtype: int64\n",
      " \n",
      "q7_label\n",
      "no     634\n",
      "yes    229\n",
      "Name: q7_label, dtype: int64\n"
     ]
    }
   ],
   "source": [
    "for i in label_name:\n",
    "    print(' ')\n",
    "    print(i)\n",
    "    print(df1[i].value_counts())\n",
    "    "
   ]
  },
  {
   "cell_type": "code",
   "execution_count": 23,
   "id": "5e633e7f",
   "metadata": {},
   "outputs": [
    {
     "data": {
      "text/plain": [
       "tweet_no        0\n",
       "tweet_text      0\n",
       "q1_label        0\n",
       "q2_label      370\n",
       "q3_label      308\n",
       "q4_label      304\n",
       "q5_label      300\n",
       "q6_label        2\n",
       "q7_label        6\n",
       "dtype: int64"
      ]
     },
     "execution_count": 23,
     "metadata": {},
     "output_type": "execute_result"
    }
   ],
   "source": [
    "df1.isna().sum()"
   ]
  },
  {
   "cell_type": "code",
   "execution_count": 24,
   "id": "afc7892c",
   "metadata": {},
   "outputs": [
    {
     "data": {
      "text/plain": [
       "869"
      ]
     },
     "execution_count": 24,
     "metadata": {},
     "output_type": "execute_result"
    }
   ],
   "source": [
    "df1.tweet_no.nunique()"
   ]
  },
  {
   "cell_type": "code",
   "execution_count": 25,
   "id": "53a29ac1",
   "metadata": {},
   "outputs": [
    {
     "data": {
      "text/plain": [
       "array([  1,   2,   3,   4,   5,   6,   7,   8,   9,  10,  11,  12,  13,\n",
       "        14,  15,  16,  17,  18,  19,  20,  21,  22,  23,  24,  25,  26,\n",
       "        27,  28,  29,  30,  31,  32,  33,  34,  35,  36,  37,  38,  39,\n",
       "        40,  41,  42,  43,  44,  45,  46,  47,  48,  49,  50,  51,  52,\n",
       "        53,  54,  55,  56,  57,  58,  59,  60,  61,  62,  63,  64,  65,\n",
       "        66,  67,  68,  69,  70,  71,  72,  73,  74,  75,  76,  77,  78,\n",
       "        79,  80,  81,  82,  83,  84,  85,  86,  87,  88,  89,  90,  91,\n",
       "        92,  93,  94,  95,  96,  97,  98,  99, 100, 101, 102, 103, 104,\n",
       "       105, 106, 107, 108, 109, 110, 111, 112, 113, 114, 115, 116, 117,\n",
       "       118, 119, 120, 121, 122, 123, 124, 125, 126, 127, 128, 129, 130,\n",
       "       131, 132, 133, 134, 135, 136, 137, 138, 139, 140, 141, 142, 143,\n",
       "       144, 145, 146, 147, 148, 149, 150, 151, 152, 153, 154, 155, 156,\n",
       "       157, 158, 159, 160, 161, 162, 163, 164, 165, 166, 167, 168, 169,\n",
       "       170, 171, 172, 173, 174, 175, 176, 177, 178, 179, 180, 181, 182,\n",
       "       183, 184, 185, 186, 187, 188, 189, 190, 191, 192, 193, 194, 195,\n",
       "       196, 197, 198, 199, 200, 201, 202, 203, 204, 205, 206, 207, 208,\n",
       "       209, 210, 211, 212, 213, 214, 215, 216, 217, 218, 219, 220, 221,\n",
       "       222, 223, 224, 225, 226, 227, 228, 229, 230, 231, 232, 233, 234,\n",
       "       235, 236, 237, 238, 239, 240, 241, 242, 243, 244, 245, 246, 247,\n",
       "       248, 249, 250, 251, 252, 253, 254, 255, 256, 257, 258, 259, 260,\n",
       "       261, 262, 263, 264, 265, 266, 267, 268, 269, 270, 271, 272, 273,\n",
       "       274, 275, 276, 277, 278, 279, 280, 281, 282, 283, 284, 285, 286,\n",
       "       287, 288, 289, 290, 291, 292, 293, 294, 295, 296, 297, 298, 299,\n",
       "       300, 301, 302, 303, 304, 305, 306, 307, 308, 309, 310, 311, 312,\n",
       "       313, 314, 315, 316, 317, 318, 319, 320, 321, 322, 323, 324, 325,\n",
       "       326, 327, 328, 329, 330, 331, 332, 333, 334, 335, 336, 337, 338,\n",
       "       339, 340, 341, 342, 343, 344, 345, 346, 347, 348, 349, 350, 351,\n",
       "       352, 353, 354, 355, 356, 357, 358, 359, 360, 361, 362, 363, 364,\n",
       "       365, 366, 367, 368, 369, 370, 371, 372, 373, 374, 375, 376, 377,\n",
       "       378, 379, 380, 381, 382, 383, 384, 385, 386, 387, 388, 389, 390,\n",
       "       391, 392, 393, 394, 395, 396, 397, 398, 399, 400, 401, 402, 403,\n",
       "       404, 405, 406, 407, 408, 409, 410, 411, 412, 413, 414, 415, 416,\n",
       "       417, 418, 419, 420, 421, 422, 423, 424, 425, 426, 427, 428, 429,\n",
       "       430, 431, 432, 433, 434, 435, 436, 437, 438, 439, 440, 441, 442,\n",
       "       443, 444, 445, 446, 447, 448, 449, 450, 451, 505, 506, 507, 508,\n",
       "       509, 510, 511, 512, 513, 514, 515, 516, 517, 518, 519, 520, 521,\n",
       "       522, 523, 524, 525, 526, 527, 528, 529, 530, 531, 532, 533, 534,\n",
       "       535, 536, 537, 538, 539, 540, 541, 542, 543, 544, 545, 546, 547,\n",
       "       548, 549, 550, 551, 552, 553, 554, 555, 556, 557, 558, 559, 560,\n",
       "       561, 562, 563, 564, 565, 566, 567, 568, 569, 570, 571, 572, 573,\n",
       "       574, 575, 576, 577, 578, 579, 580, 581, 582, 583, 584, 585, 586,\n",
       "       587, 588, 589, 590, 591, 592, 593, 594, 595, 596, 597, 598, 599,\n",
       "       600, 601, 602, 603, 604, 605, 606, 607, 608, 609, 610, 611, 612,\n",
       "       613, 614, 615, 616, 617, 618, 619, 620, 621, 622, 623, 624, 625,\n",
       "       626, 627, 628, 629, 630, 631, 632, 633, 634, 635, 636, 637, 638,\n",
       "       639, 640, 641, 642, 643, 644, 645, 646, 647, 648, 649, 650, 651,\n",
       "       652, 653, 654, 655, 656, 657, 658, 659, 660, 661, 662, 663, 664,\n",
       "       665, 666, 667, 668, 669, 670, 671, 672, 673, 674, 675, 676, 677,\n",
       "       678, 679, 680, 681, 682, 683, 684, 685, 686, 687, 688, 689, 690,\n",
       "       691, 692, 693, 694, 695, 696, 697, 698, 699, 700, 701, 702, 703,\n",
       "       704, 705, 706, 707, 708, 709, 710, 711, 712, 713, 714, 715, 716,\n",
       "       717, 718, 719, 720, 721, 722, 723, 724, 725, 726, 727, 728, 729,\n",
       "       730, 731, 732, 733, 734, 735, 736, 737, 738, 739, 740, 741, 742,\n",
       "       743, 744, 745, 746, 747, 748, 749, 750, 751, 752, 753, 754, 755,\n",
       "       756, 757, 758, 759, 760, 761, 762, 763, 764, 765, 766, 767, 768,\n",
       "       769, 770, 771, 772, 773, 774, 775, 776, 777, 778, 779, 780, 781,\n",
       "       782, 783, 784, 785, 786, 787, 788, 789, 790, 791, 792, 793, 794,\n",
       "       795, 796, 797, 798, 799, 800, 801, 802, 803, 804, 805, 806, 807,\n",
       "       808, 809, 810, 811, 812, 813, 814, 815, 816, 817, 818, 819, 820,\n",
       "       821, 822, 823, 824, 825, 826, 827, 828, 829, 830, 831, 832, 833,\n",
       "       834, 835, 836, 837, 838, 839, 840, 841, 842, 843, 844, 845, 846,\n",
       "       847, 848, 849, 850, 851, 852, 853, 854, 855, 856, 857, 858, 859,\n",
       "       860, 861, 862, 863, 864, 865, 866, 867, 868, 869, 870, 871, 872,\n",
       "       873, 874, 875, 876, 877, 878, 879, 880, 881, 882, 883, 884, 885,\n",
       "       886, 887, 888, 889, 890, 891, 892, 893, 894, 895, 896, 897, 898,\n",
       "       899, 900, 901, 902, 903, 904, 905, 906, 907, 908, 909, 910, 911,\n",
       "       912, 913, 914, 915, 916, 917, 918, 919, 920, 921, 922])"
      ]
     },
     "execution_count": 25,
     "metadata": {},
     "output_type": "execute_result"
    }
   ],
   "source": [
    "df1.tweet_no.unique()"
   ]
  },
  {
   "cell_type": "code",
   "execution_count": 26,
   "id": "f9cc5077",
   "metadata": {},
   "outputs": [
    {
     "name": "stdout",
     "output_type": "stream",
     "text": [
      "0\n",
      "452\n",
      "453\n",
      "454\n",
      "455\n",
      "456\n",
      "457\n",
      "458\n",
      "459\n",
      "460\n",
      "461\n",
      "462\n",
      "463\n",
      "464\n",
      "465\n",
      "466\n",
      "467\n",
      "468\n",
      "469\n",
      "470\n",
      "471\n",
      "472\n",
      "473\n",
      "474\n",
      "475\n",
      "476\n",
      "477\n",
      "478\n",
      "479\n",
      "480\n",
      "481\n",
      "482\n",
      "483\n",
      "484\n",
      "485\n",
      "486\n",
      "487\n",
      "488\n",
      "489\n",
      "490\n",
      "491\n",
      "492\n",
      "493\n",
      "494\n",
      "495\n",
      "496\n",
      "497\n",
      "498\n",
      "499\n",
      "500\n",
      "501\n",
      "502\n",
      "503\n",
      "504\n"
     ]
    }
   ],
   "source": [
    "for i in range(923):\n",
    "    if i not in df1.tweet_no.unique():\n",
    "        print(i)"
   ]
  },
  {
   "cell_type": "markdown",
   "id": "dab3912c",
   "metadata": {},
   "source": [
    "### Correlation"
   ]
  },
  {
   "cell_type": "code",
   "execution_count": 33,
   "id": "d5bc9978",
   "metadata": {},
   "outputs": [],
   "source": [
    "from sklearn.preprocessing import LabelEncoder\n",
    "#label = LabelEncoder()\n",
    "#label.fit_transform(df1[label_name[1]])\n",
    "df_transform = df1[label_name].apply(LabelEncoder().fit_transform)"
   ]
  },
  {
   "cell_type": "code",
   "execution_count": 35,
   "id": "99fc796e",
   "metadata": {},
   "outputs": [],
   "source": [
    "import seaborn as sns"
   ]
  },
  {
   "cell_type": "code",
   "execution_count": 37,
   "id": "25d99b26",
   "metadata": {},
   "outputs": [
    {
     "data": {
      "image/png": "[encoded data removed]",
      "text/plain": [
       "<Figure size 432x288 with 2 Axes>"
      ]
     },
     "metadata": {},
     "output_type": "display_data"
    }
   ],
   "source": [
    "sns.heatmap(df_transform.corr());"
   ]
  },
  {
   "cell_type": "markdown",
   "id": "886cddb7",
   "metadata": {},
   "source": [
    "# COVID19 infordemic data"
   ]
  },
  {
   "cell_type": "code",
   "execution_count": 38,
   "id": "1ab6eafe",
   "metadata": {},
   "outputs": [],
   "source": [
    "df2 = pd.read_csv('../data/covid19_infordemic/covid19_infodemic_english_data.tsv', sep='\\t')"
   ]
  },
  {
   "cell_type": "code",
   "execution_count": 39,
   "id": "6b5bd18b",
   "metadata": {},
   "outputs": [
    {
     "data": {
      "text/html": [
       "<div>\n",
       "<style scoped>\n",
       "    .dataframe tbody tr th:only-of-type {\n",
       "        vertical-align: middle;\n",
       "    }\n",
       "\n",
       "    .dataframe tbody tr th {\n",
       "        vertical-align: top;\n",
       "    }\n",
       "\n",
       "    .dataframe thead th {\n",
       "        text-align: right;\n",
       "    }\n",
       "</style>\n",
       "<table border=\"1\" class=\"dataframe\">\n",
       "  <thead>\n",
       "    <tr style=\"text-align: right;\">\n",
       "      <th></th>\n",
       "      <th>tweet_id</th>\n",
       "      <th>text</th>\n",
       "      <th>q1_label</th>\n",
       "      <th>q2_label</th>\n",
       "      <th>q3_label</th>\n",
       "      <th>q4_label</th>\n",
       "      <th>q5_label</th>\n",
       "      <th>q6_label</th>\n",
       "      <th>q7_label</th>\n",
       "    </tr>\n",
       "  </thead>\n",
       "  <tbody>\n",
       "    <tr>\n",
       "      <th>0</th>\n",
       "      <td>1241025578527903750</td>\n",
       "      <td>For the average American the best way to tell ...</td>\n",
       "      <td>no</td>\n",
       "      <td>NaN</td>\n",
       "      <td>NaN</td>\n",
       "      <td>NaN</td>\n",
       "      <td>NaN</td>\n",
       "      <td>no_joke_or_sarcasm</td>\n",
       "      <td>no_not_interesting</td>\n",
       "    </tr>\n",
       "    <tr>\n",
       "      <th>1</th>\n",
       "      <td>1240467080954228737</td>\n",
       "      <td>this is fucking bullshit</td>\n",
       "      <td>no</td>\n",
       "      <td>NaN</td>\n",
       "      <td>NaN</td>\n",
       "      <td>NaN</td>\n",
       "      <td>NaN</td>\n",
       "      <td>no_not_harmful</td>\n",
       "      <td>no_not_interesting</td>\n",
       "    </tr>\n",
       "    <tr>\n",
       "      <th>2</th>\n",
       "      <td>1240716889162018816</td>\n",
       "      <td>Can y’all please just follow the government’s ...</td>\n",
       "      <td>no</td>\n",
       "      <td>NaN</td>\n",
       "      <td>NaN</td>\n",
       "      <td>NaN</td>\n",
       "      <td>NaN</td>\n",
       "      <td>no_not_harmful</td>\n",
       "      <td>no_not_interesting</td>\n",
       "    </tr>\n",
       "    <tr>\n",
       "      <th>3</th>\n",
       "      <td>1241062514886090754</td>\n",
       "      <td>No offense but the corona virus disappearing b...</td>\n",
       "      <td>no</td>\n",
       "      <td>NaN</td>\n",
       "      <td>NaN</td>\n",
       "      <td>NaN</td>\n",
       "      <td>NaN</td>\n",
       "      <td>no_not_harmful</td>\n",
       "      <td>no_not_interesting</td>\n",
       "    </tr>\n",
       "    <tr>\n",
       "      <th>4</th>\n",
       "      <td>1241447017945223169</td>\n",
       "      <td>This is the face of someone who just spent 9 h...</td>\n",
       "      <td>yes</td>\n",
       "      <td>2_no_probably_contains_no_false_info</td>\n",
       "      <td>4_yes_probably_of_interest</td>\n",
       "      <td>1_no_definitely_not_harmful</td>\n",
       "      <td>yes_not_urgent</td>\n",
       "      <td>no_not_harmful</td>\n",
       "      <td>no_not_interesting</td>\n",
       "    </tr>\n",
       "  </tbody>\n",
       "</table>\n",
       "</div>"
      ],
      "text/plain": [
       "              tweet_id                                               text  \\\n",
       "0  1241025578527903750  For the average American the best way to tell ...   \n",
       "1  1240467080954228737                           this is fucking bullshit   \n",
       "2  1240716889162018816  Can y’all please just follow the government’s ...   \n",
       "3  1241062514886090754  No offense but the corona virus disappearing b...   \n",
       "4  1241447017945223169  This is the face of someone who just spent 9 h...   \n",
       "\n",
       "  q1_label                              q2_label                    q3_label  \\\n",
       "0       no                                   NaN                         NaN   \n",
       "1       no                                   NaN                         NaN   \n",
       "2       no                                   NaN                         NaN   \n",
       "3       no                                   NaN                         NaN   \n",
       "4      yes  2_no_probably_contains_no_false_info  4_yes_probably_of_interest   \n",
       "\n",
       "                      q4_label        q5_label            q6_label  \\\n",
       "0                          NaN             NaN  no_joke_or_sarcasm   \n",
       "1                          NaN             NaN      no_not_harmful   \n",
       "2                          NaN             NaN      no_not_harmful   \n",
       "3                          NaN             NaN      no_not_harmful   \n",
       "4  1_no_definitely_not_harmful  yes_not_urgent      no_not_harmful   \n",
       "\n",
       "             q7_label  \n",
       "0  no_not_interesting  \n",
       "1  no_not_interesting  \n",
       "2  no_not_interesting  \n",
       "3  no_not_interesting  \n",
       "4  no_not_interesting  "
      ]
     },
     "execution_count": 39,
     "metadata": {},
     "output_type": "execute_result"
    }
   ],
   "source": [
    "df2.head()"
   ]
  },
  {
   "cell_type": "code",
   "execution_count": 40,
   "id": "39d84584",
   "metadata": {},
   "outputs": [
    {
     "data": {
      "text/plain": [
       "(504, 9)"
      ]
     },
     "execution_count": 40,
     "metadata": {},
     "output_type": "execute_result"
    }
   ],
   "source": [
    "df2.shape"
   ]
  },
  {
   "cell_type": "code",
   "execution_count": 41,
   "id": "5baf1d39",
   "metadata": {},
   "outputs": [
    {
     "data": {
      "text/plain": [
       "tweet_id      0\n",
       "text          0\n",
       "q1_label      0\n",
       "q2_label    199\n",
       "q3_label    199\n",
       "q4_label    199\n",
       "q5_label    199\n",
       "q6_label      0\n",
       "q7_label      0\n",
       "dtype: int64"
      ]
     },
     "execution_count": 41,
     "metadata": {},
     "output_type": "execute_result"
    }
   ],
   "source": [
    "df2.isna().sum()"
   ]
  },
  {
   "cell_type": "code",
   "execution_count": null,
   "id": "384c8074",
   "metadata": {},
   "outputs": [],
   "source": []
  }
 ],
 "metadata": {
  "kernelspec": {
   "display_name": "Python 3 (ipykernel)",
   "language": "python",
   "name": "python3"
  },
  "language_info": {
   "codemirror_mode": {
    "name": "ipython",
    "version": 3
   },
   "file_extension": ".py",
   "mimetype": "text/x-python",
   "name": "python",
   "nbconvert_exporter": "python",
   "pygments_lexer": "ipython3",
   "version": "3.8.13"
  }
 },
 "nbformat": 4,
 "nbformat_minor": 5
}
