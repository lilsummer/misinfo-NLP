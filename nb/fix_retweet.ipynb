{
 "cells": [
  {
   "cell_type": "code",
   "execution_count": 40,
   "id": "380f540e",
   "metadata": {},
   "outputs": [],
   "source": [
    "import tweepy                   # Python wrapper around Twitter API\n",
    "import json\n",
    "import pandas as pd\n",
    "import csv\n",
    "from datetime import date\n",
    "from datetime import datetime\n",
    "import time\n",
    "import matplotlib.pyplot as plt\n",
    "\n",
    "\n",
    "secrets = json.loads(open('mysecret.json').read())  \n",
    "consumer_key = secrets['API_Key']\n",
    "consumer_secret = secrets['API_Key_Secret']\n",
    "access_token = secrets['Access_Token']\n",
    "access_token_secret = secrets['Access_Token_Secret']\n",
    "\n",
    "auth = tweepy.OAuthHandler(consumer_key, consumer_secret)\n",
    "auth.set_access_token(access_token, access_token_secret)\n",
    "\n",
    "api = tweepy.API(auth)  \n",
    "# public_tweets = api.home_timeline()\n",
    "# for tweet in public_tweets:\n",
    "#     print(tweet.text)"
   ]
  },
  {
   "cell_type": "markdown",
   "id": "6da3dafd",
   "metadata": {},
   "source": [
    "## Retrieve @hodgetwins tweet by using specific tweetID"
   ]
  },
  {
   "cell_type": "code",
   "execution_count": 43,
   "id": "0eb3de22",
   "metadata": {},
   "outputs": [],
   "source": [
    "hodge_label = pd.read_csv('../data/manual_label/hodgetwins_label.csv')"
   ]
  },
  {
   "cell_type": "code",
   "execution_count": 82,
   "id": "e93d2aa5",
   "metadata": {},
   "outputs": [
    {
     "data": {
      "text/plain": [
       "Index(['Unnamed: 0', 'Time', 'User', 'Tweet', 'RetweetCount', 'LikeCount',\n",
       "       'TweetID', 'Geo', 'q0_label', 'q1_label', 'q2_label', 'q4_label'],\n",
       "      dtype='object')"
      ]
     },
     "execution_count": 82,
     "metadata": {},
     "output_type": "execute_result"
    }
   ],
   "source": [
    "hodge_label.columns"
   ]
  },
  {
   "cell_type": "code",
   "execution_count": 54,
   "id": "8eae01c3",
   "metadata": {},
   "outputs": [],
   "source": [
    "hodge_new_data = []\n",
    "hodge_json = []"
   ]
  },
  {
   "cell_type": "code",
   "execution_count": 80,
   "id": "41b808dc",
   "metadata": {},
   "outputs": [
    {
     "data": {
      "text/plain": [
       "18"
      ]
     },
     "execution_count": 80,
     "metadata": {},
     "output_type": "execute_result"
    }
   ],
   "source": [
    "hodge_label[hodge_label.q0_label=='yes'].TweetID.nunique()"
   ]
  },
  {
   "cell_type": "code",
   "execution_count": 67,
   "id": "9f54bec0",
   "metadata": {},
   "outputs": [
    {
     "name": "stdout",
     "output_type": "stream",
     "text": [
      "1545123333007675136\n",
      "1542683633126866688\n",
      "1539556787891982336\n",
      "1532149089244172288\n",
      "1531128221835460608\n"
     ]
    }
   ],
   "source": [
    "for i in hodge_label[hodge_label.q0_label=='yes'].TweetID.values:\n",
    "    #print(int(i))\n",
    "    try:\n",
    "        current = api.get_status(int(i), trim_user =False)._json\n",
    "    except:\n",
    "        print(int(i))\n",
    "    try:\n",
    "        if 'retweeted_status' in current:\n",
    "            hodge_new_data.append([current['created_at'], current['user']['screen_name'], \\\n",
    "                                   current['retweeted_status']['text'],\\\n",
    "                     current['retweet_count'], current['favorite_count'], current['id'], current['geo']])\n",
    "        else:\n",
    "            hodge_new_data.append([current['created_at'], current['user']['screen_name'], \\\n",
    "                                   current['text'],\\\n",
    "                     current['retweet_count'], current['favorite_count'], current['id'], current['geo']])\n",
    "    except:\n",
    "        print('not working')"
   ]
  },
  {
   "cell_type": "code",
   "execution_count": 84,
   "id": "75216f77",
   "metadata": {},
   "outputs": [],
   "source": [
    "df = pd.DataFrame(hodge_new_data)\n",
    "df.columns = ['Time', 'User', 'Tweet', 'RetweetCount', 'LikeCount',\n",
    "       'TweetID', 'Geo']"
   ]
  },
  {
   "cell_type": "code",
   "execution_count": 85,
   "id": "ed8c9888",
   "metadata": {},
   "outputs": [],
   "source": [
    "df.to_csv('hodgetwins_tweets_refind.csv', index=False)"
   ]
  },
  {
   "cell_type": "markdown",
   "id": "b13d00c6",
   "metadata": {},
   "source": [
    "## recapture the tweets"
   ]
  },
  {
   "cell_type": "code",
   "execution_count": 96,
   "id": "db7af2c6",
   "metadata": {},
   "outputs": [],
   "source": [
    "user = 'MackayIM'\n",
    "\n",
    "limit = 2000\n",
    "tweets = tweepy.Cursor(api.user_timeline, screen_name=user, count= 200, tweet_mode = 'extended').items(limit)\n",
    "#tweets = api.user_timeline(screen_name=user, count= limit, tweet_mode = 'extended')\n",
    "\n",
    "#create dataframe\n",
    "columns = ['Time', 'User', 'Tweet', 'RetweetCount', 'LikeCount', 'TweetID', 'Geo']\n",
    "data=[]\n",
    "\n",
    "for tweet in tweets:\n",
    "    current = tweet._json\n",
    "    if 'retweeted_status' in current:\n",
    "        data.append([current['created_at'], current['user']['screen_name'], \\\n",
    "                                   current['retweeted_status']['full_text'],\\\n",
    "                     current['retweet_count'], current['favorite_count'], current['id'], current['geo']])\n",
    "    else:\n",
    "        data.append([current['created_at'], current['user']['screen_name'], \\\n",
    "                                   current['full_text'],\\\n",
    "                     current['retweet_count'], current['favorite_count'], current['id'], current['geo']])\n",
    "df= pd.DataFrame(data,columns=columns)\n",
    "df.to_csv('MackayIM_full.csv')"
   ]
  },
  {
   "cell_type": "code",
   "execution_count": 92,
   "id": "ca13127b",
   "metadata": {},
   "outputs": [],
   "source": [
    "user = 'VPrasadMDMPH'\n",
    "\n",
    "limit = 2000\n",
    "tweets = tweepy.Cursor(api.user_timeline, screen_name=user, count= 200, tweet_mode = 'extended').items(limit)\n",
    "#tweets = api.user_timeline(screen_name=user, count= limit, tweet_mode = 'extended')\n",
    "\n",
    "#create dataframe\n",
    "columns = ['Time', 'User', 'Tweet', 'RetweetCount', 'LikeCount', 'TweetID', 'Geo']\n",
    "data=[]\n",
    "\n",
    "for tweet in tweets:\n",
    "    current = tweet._json\n",
    "    if 'retweeted_status' in current:\n",
    "        data.append([current['created_at'], current['user']['screen_name'], \\\n",
    "                                   current['retweeted_status']['full_text'],\\\n",
    "                     current['retweet_count'], current['favorite_count'], current['id'], current['geo']])\n",
    "    else:\n",
    "        data.append([current['created_at'], current['user']['screen_name'], \\\n",
    "                                   current['full_text'],\\\n",
    "                     current['retweet_count'], current['favorite_count'], current['id'], current['geo']])\n",
    "df= pd.DataFrame(data,columns=columns)\n",
    "df.to_csv('VPrasadMDMPH_full.csv')"
   ]
  },
  {
   "cell_type": "code",
   "execution_count": 93,
   "id": "df1f4c94",
   "metadata": {},
   "outputs": [],
   "source": [
    "user = 'APFactCheck'\n",
    "\n",
    "limit = 2000\n",
    "tweets = tweepy.Cursor(api.user_timeline, screen_name=user, count= 200, tweet_mode = 'extended').items(limit)\n",
    "#tweets = api.user_timeline(screen_name=user, count= limit, tweet_mode = 'extended')\n",
    "\n",
    "#create dataframe\n",
    "columns = ['Time', 'User', 'Tweet', 'RetweetCount', 'LikeCount', 'TweetID', 'Geo']\n",
    "data=[]\n",
    "\n",
    "for tweet in tweets:\n",
    "    current = tweet._json\n",
    "    if 'retweeted_status' in current:\n",
    "        data.append([current['created_at'], current['user']['screen_name'], \\\n",
    "                                   current['retweeted_status']['full_text'],\\\n",
    "                     current['retweet_count'], current['favorite_count'], current['id'], current['geo']])\n",
    "    else:\n",
    "        data.append([current['created_at'], current['user']['screen_name'], \\\n",
    "                                   current['full_text'],\\\n",
    "                     current['retweet_count'], current['favorite_count'], current['id'], current['geo']])\n",
    "df= pd.DataFrame(data,columns=columns)\n",
    "df.to_csv('APFactCheck_full.csv')"
   ]
  },
  {
   "cell_type": "code",
   "execution_count": 94,
   "id": "4fa4d5e6",
   "metadata": {},
   "outputs": [],
   "source": [
    "user = 'Rustybe96849965'\n",
    "\n",
    "limit = 2000\n",
    "tweets = tweepy.Cursor(api.user_timeline, screen_name=user, count= 200, tweet_mode = 'extended').items(limit)\n",
    "#tweets = api.user_timeline(screen_name=user, count= limit, tweet_mode = 'extended')\n",
    "\n",
    "#create dataframe\n",
    "columns = ['Time', 'User', 'Tweet', 'RetweetCount', 'LikeCount', 'TweetID', 'Geo']\n",
    "data=[]\n",
    "\n",
    "for tweet in tweets:\n",
    "    current = tweet._json\n",
    "    if 'retweeted_status' in current:\n",
    "        data.append([current['created_at'], current['user']['screen_name'], \\\n",
    "                                   current['retweeted_status']['full_text'],\\\n",
    "                     current['retweet_count'], current['favorite_count'], current['id'], current['geo']])\n",
    "    else:\n",
    "        data.append([current['created_at'], current['user']['screen_name'], \\\n",
    "                                   current['full_text'],\\\n",
    "                     current['retweet_count'], current['favorite_count'], current['id'], current['geo']])\n",
    "df= pd.DataFrame(data,columns=columns)\n",
    "df.to_csv('Rustybe96849965_full.csv')"
   ]
  },
  {
   "cell_type": "code",
   "execution_count": 95,
   "id": "7c6ea8a8",
   "metadata": {},
   "outputs": [],
   "source": [
    "user = 'BandyGit'\n",
    "\n",
    "limit = 2000\n",
    "tweets = tweepy.Cursor(api.user_timeline, screen_name=user, count= 200, tweet_mode = 'extended').items(limit)\n",
    "#tweets = api.user_timeline(screen_name=user, count= limit, tweet_mode = 'extended')\n",
    "\n",
    "#create dataframe\n",
    "columns = ['Time', 'User', 'Tweet', 'RetweetCount', 'LikeCount', 'TweetID', 'Geo']\n",
    "data=[]\n",
    "\n",
    "for tweet in tweets:\n",
    "    current = tweet._json\n",
    "    if 'retweeted_status' in current:\n",
    "        data.append([current['created_at'], current['user']['screen_name'], \\\n",
    "                                   current['retweeted_status']['full_text'],\\\n",
    "                     current['retweet_count'], current['favorite_count'], current['id'], current['geo']])\n",
    "    else:\n",
    "        data.append([current['created_at'], current['user']['screen_name'], \\\n",
    "                                   current['full_text'],\\\n",
    "                     current['retweet_count'], current['favorite_count'], current['id'], current['geo']])\n",
    "df= pd.DataFrame(data,columns=columns)\n",
    "df.to_csv('BandyGit_full.csv')"
   ]
  },
  {
   "cell_type": "code",
   "execution_count": null,
   "id": "5e3a60a9",
   "metadata": {},
   "outputs": [],
   "source": []
  },
  {
   "cell_type": "code",
   "execution_count": null,
   "id": "f48565a6",
   "metadata": {},
   "outputs": [],
   "source": []
  },
  {
   "cell_type": "code",
   "execution_count": null,
   "id": "45506079",
   "metadata": {},
   "outputs": [],
   "source": []
  },
  {
   "cell_type": "code",
   "execution_count": null,
   "id": "4aa99733",
   "metadata": {},
   "outputs": [],
   "source": []
  },
  {
   "cell_type": "code",
   "execution_count": null,
   "id": "627d97db",
   "metadata": {},
   "outputs": [],
   "source": []
  },
  {
   "cell_type": "code",
   "execution_count": 31,
   "id": "38ec11ab",
   "metadata": {},
   "outputs": [],
   "source": []
  },
  {
   "cell_type": "code",
   "execution_count": null,
   "id": "c5706daa",
   "metadata": {},
   "outputs": [],
   "source": []
  }
 ],
 "metadata": {
  "kernelspec": {
   "display_name": "Python 3 (ipykernel)",
   "language": "python",
   "name": "python3"
  },
  "language_info": {
   "codemirror_mode": {
    "name": "ipython",
    "version": 3
   },
   "file_extension": ".py",
   "mimetype": "text/x-python",
   "name": "python",
   "nbconvert_exporter": "python",
   "pygments_lexer": "ipython3",
   "version": "3.8.13"
  }
 },
 "nbformat": 4,
 "nbformat_minor": 5
}
